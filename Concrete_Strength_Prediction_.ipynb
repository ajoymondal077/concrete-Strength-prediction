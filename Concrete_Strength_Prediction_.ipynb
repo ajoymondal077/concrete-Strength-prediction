{
  "cells": [
    {
      "cell_type": "code",
      "execution_count": 1,
      "metadata": {
        "id": "FyEoXHGUzsN2"
      },
      "outputs": [],
      "source": [
        "# import pandas as pd\n",
        "# import numpy as np\n",
        "# import matplotlib.pyplot as plt\n",
        "# import seaborn as sns\n",
        "\n",
        "# # Load dataset\n",
        "# url = \"https://archive.ics.uci.edu/ml/machine-learning-databases/concrete/compressive/Concrete_Data.xls\"\n",
        "# df = pd.read_excel(url)\n",
        "# print(df.head())\n",
        "\n",
        "# # Rename columns for easier access\n",
        "# df.columns = [\"Cement\", \"BlastFurnaceSlag\", \"FlyAsh\", \"Water\", \"Superplasticizer\",\n",
        "#               \"CoarseAggregate\", \"FineAggregate\", \"Age\", \"Strength\"]\n",
        "\n",
        "# # Display first few rows\n",
        "# print(df.head())\n",
        "\n",
        "# # Check for missing values\n",
        "# print(df.isnull().sum())\n",
        "\n",
        "# # Summary statistics\n",
        "# print(df.describe())\n"
      ]
    },
    {
      "cell_type": "code",
      "source": [
        "import kagglehub\n",
        "\n",
        "# Download latest version\n",
        "path = kagglehub.dataset_download(\"sinamhd9/concrete-comprehensive-strength\")\n",
        "\n",
        "print(\"Path to dataset files:\", path)"
      ],
      "metadata": {
        "colab": {
          "base_uri": "https://localhost:8080/"
        },
        "id": "at1EL8SxOCyc",
        "outputId": "f2ff0c5b-1212-4c58-fffd-b6900b36e0a8"
      },
      "execution_count": 2,
      "outputs": [
        {
          "output_type": "stream",
          "name": "stdout",
          "text": [
            "Downloading from https://www.kaggle.com/api/v1/datasets/download/sinamhd9/concrete-comprehensive-strength?dataset_version_number=1...\n"
          ]
        },
        {
          "output_type": "stream",
          "name": "stderr",
          "text": [
            "100%|██████████| 32.9k/32.9k [00:00<00:00, 13.3MB/s]"
          ]
        },
        {
          "output_type": "stream",
          "name": "stdout",
          "text": [
            "Extracting files...\n",
            "Path to dataset files: /root/.cache/kagglehub/datasets/sinamhd9/concrete-comprehensive-strength/versions/1\n"
          ]
        },
        {
          "output_type": "stream",
          "name": "stderr",
          "text": [
            "\n"
          ]
        }
      ]
    },
    {
      "cell_type": "code",
      "source": [
        "import pandas as pd\n",
        "import numpy as np\n",
        "import matplotlib.pyplot as plt\n",
        "import seaborn as sns\n",
        "data_path =\"/root/.cache/kagglehub/datasets/sinamhd9/concrete-comprehensive-strength/versions/1/Concrete_Data.xls\"\n",
        "df = pd.read_excel(data_path)\n",
        "print(df.head())\n",
        "\n",
        "df.columns = [\"Cement\", \"BlastFurnaceSlag\", \"FlyAsh\", \"Water\", \"Superplasticizer\",\n",
        "              \"CoarseAggregate\", \"FineAggregate\", \"Age\", \"Strength\"]\n",
        "\n",
        "# Display first few rows\n",
        "print(df.head())\n",
        "\n",
        "# Check for missing values\n",
        "print(df.isnull().sum())\n",
        "\n",
        "# Summary statistics\n",
        "print(df.describe())"
      ],
      "metadata": {
        "colab": {
          "base_uri": "https://localhost:8080/"
        },
        "id": "cjqHE_RuOPhE",
        "outputId": "ff4953e5-5c40-4226-c971-4479213a5377"
      },
      "execution_count": 3,
      "outputs": [
        {
          "output_type": "stream",
          "name": "stdout",
          "text": [
            "   Cement (component 1)(kg in a m^3 mixture)  \\\n",
            "0                                      540.0   \n",
            "1                                      540.0   \n",
            "2                                      332.5   \n",
            "3                                      332.5   \n",
            "4                                      198.6   \n",
            "\n",
            "   Blast Furnace Slag (component 2)(kg in a m^3 mixture)  \\\n",
            "0                                                0.0       \n",
            "1                                                0.0       \n",
            "2                                              142.5       \n",
            "3                                              142.5       \n",
            "4                                              132.4       \n",
            "\n",
            "   Fly Ash (component 3)(kg in a m^3 mixture)  \\\n",
            "0                                         0.0   \n",
            "1                                         0.0   \n",
            "2                                         0.0   \n",
            "3                                         0.0   \n",
            "4                                         0.0   \n",
            "\n",
            "   Water  (component 4)(kg in a m^3 mixture)  \\\n",
            "0                                      162.0   \n",
            "1                                      162.0   \n",
            "2                                      228.0   \n",
            "3                                      228.0   \n",
            "4                                      192.0   \n",
            "\n",
            "   Superplasticizer (component 5)(kg in a m^3 mixture)  \\\n",
            "0                                                2.5     \n",
            "1                                                2.5     \n",
            "2                                                0.0     \n",
            "3                                                0.0     \n",
            "4                                                0.0     \n",
            "\n",
            "   Coarse Aggregate  (component 6)(kg in a m^3 mixture)  \\\n",
            "0                                             1040.0      \n",
            "1                                             1055.0      \n",
            "2                                              932.0      \n",
            "3                                              932.0      \n",
            "4                                              978.4      \n",
            "\n",
            "   Fine Aggregate (component 7)(kg in a m^3 mixture)  Age (day)  \\\n",
            "0                                              676.0         28   \n",
            "1                                              676.0         28   \n",
            "2                                              594.0        270   \n",
            "3                                              594.0        365   \n",
            "4                                              825.5        360   \n",
            "\n",
            "   Concrete compressive strength(MPa, megapascals)   \n",
            "0                                         79.986111  \n",
            "1                                         61.887366  \n",
            "2                                         40.269535  \n",
            "3                                         41.052780  \n",
            "4                                         44.296075  \n",
            "   Cement  BlastFurnaceSlag  FlyAsh  Water  Superplasticizer  CoarseAggregate  \\\n",
            "0   540.0               0.0     0.0  162.0               2.5           1040.0   \n",
            "1   540.0               0.0     0.0  162.0               2.5           1055.0   \n",
            "2   332.5             142.5     0.0  228.0               0.0            932.0   \n",
            "3   332.5             142.5     0.0  228.0               0.0            932.0   \n",
            "4   198.6             132.4     0.0  192.0               0.0            978.4   \n",
            "\n",
            "   FineAggregate  Age   Strength  \n",
            "0          676.0   28  79.986111  \n",
            "1          676.0   28  61.887366  \n",
            "2          594.0  270  40.269535  \n",
            "3          594.0  365  41.052780  \n",
            "4          825.5  360  44.296075  \n",
            "Cement              0\n",
            "BlastFurnaceSlag    0\n",
            "FlyAsh              0\n",
            "Water               0\n",
            "Superplasticizer    0\n",
            "CoarseAggregate     0\n",
            "FineAggregate       0\n",
            "Age                 0\n",
            "Strength            0\n",
            "dtype: int64\n",
            "            Cement  BlastFurnaceSlag       FlyAsh        Water  \\\n",
            "count  1030.000000       1030.000000  1030.000000  1030.000000   \n",
            "mean    281.165631         73.895485    54.187136   181.566359   \n",
            "std     104.507142         86.279104    63.996469    21.355567   \n",
            "min     102.000000          0.000000     0.000000   121.750000   \n",
            "25%     192.375000          0.000000     0.000000   164.900000   \n",
            "50%     272.900000         22.000000     0.000000   185.000000   \n",
            "75%     350.000000        142.950000   118.270000   192.000000   \n",
            "max     540.000000        359.400000   200.100000   247.000000   \n",
            "\n",
            "       Superplasticizer  CoarseAggregate  FineAggregate          Age  \\\n",
            "count       1030.000000      1030.000000    1030.000000  1030.000000   \n",
            "mean           6.203112       972.918592     773.578883    45.662136   \n",
            "std            5.973492        77.753818      80.175427    63.169912   \n",
            "min            0.000000       801.000000     594.000000     1.000000   \n",
            "25%            0.000000       932.000000     730.950000     7.000000   \n",
            "50%            6.350000       968.000000     779.510000    28.000000   \n",
            "75%           10.160000      1029.400000     824.000000    56.000000   \n",
            "max           32.200000      1145.000000     992.600000   365.000000   \n",
            "\n",
            "          Strength  \n",
            "count  1030.000000  \n",
            "mean     35.817836  \n",
            "std      16.705679  \n",
            "min       2.331808  \n",
            "25%      23.707115  \n",
            "50%      34.442774  \n",
            "75%      46.136287  \n",
            "max      82.599225  \n"
          ]
        }
      ]
    },
    {
      "cell_type": "code",
      "execution_count": 4,
      "metadata": {
        "id": "tpvyFsaS0EqB"
      },
      "outputs": [],
      "source": [
        "from sklearn.model_selection import train_test_split\n",
        "from sklearn.preprocessing import StandardScaler\n",
        "import joblib\n",
        "\n",
        "X = df.drop(columns=['Strength'])\n",
        "y = df['Strength']\n",
        "\n",
        "\n",
        "scaler = StandardScaler()\n",
        "X_scaled = scaler.fit_transform(X)\n",
        "joblib.dump(scaler, 'scaler.pkl')\n",
        "\n",
        "\n",
        "X_train, X_test, y_train, y_test = train_test_split(X_scaled, y, test_size=0.2, random_state=42)\n"
      ]
    },
    {
      "cell_type": "code",
      "execution_count": 5,
      "metadata": {
        "id": "QK5LSzI83HIZ"
      },
      "outputs": [],
      "source": [
        "from tensorflow.keras.models import Sequential\n",
        "from tensorflow.keras.layers import Dense, Dropout\n"
      ]
    },
    {
      "cell_type": "code",
      "execution_count": 6,
      "metadata": {
        "colab": {
          "base_uri": "https://localhost:8080/",
          "height": 315
        },
        "id": "0dLngqPP4nE3",
        "outputId": "d7ffe669-d9f9-4c20-be0a-7a1355f7a6f2"
      },
      "outputs": [
        {
          "output_type": "stream",
          "name": "stderr",
          "text": [
            "/usr/local/lib/python3.11/dist-packages/keras/src/layers/core/dense.py:87: UserWarning: Do not pass an `input_shape`/`input_dim` argument to a layer. When using Sequential models, prefer using an `Input(shape)` object as the first layer in the model instead.\n",
            "  super().__init__(activity_regularizer=activity_regularizer, **kwargs)\n"
          ]
        },
        {
          "output_type": "display_data",
          "data": {
            "text/plain": [
              "\u001b[1mModel: \"sequential\"\u001b[0m\n"
            ],
            "text/html": [
              "<pre style=\"white-space:pre;overflow-x:auto;line-height:normal;font-family:Menlo,'DejaVu Sans Mono',consolas,'Courier New',monospace\"><span style=\"font-weight: bold\">Model: \"sequential\"</span>\n",
              "</pre>\n"
            ]
          },
          "metadata": {}
        },
        {
          "output_type": "display_data",
          "data": {
            "text/plain": [
              "┏━━━━━━━━━━━━━━━━━━━━━━━━━━━━━━━━━━━━━━┳━━━━━━━━━━━━━━━━━━━━━━━━━━━━━┳━━━━━━━━━━━━━━━━━┓\n",
              "┃\u001b[1m \u001b[0m\u001b[1mLayer (type)                        \u001b[0m\u001b[1m \u001b[0m┃\u001b[1m \u001b[0m\u001b[1mOutput Shape               \u001b[0m\u001b[1m \u001b[0m┃\u001b[1m \u001b[0m\u001b[1m        Param #\u001b[0m\u001b[1m \u001b[0m┃\n",
              "┡━━━━━━━━━━━━━━━━━━━━━━━━━━━━━━━━━━━━━━╇━━━━━━━━━━━━━━━━━━━━━━━━━━━━━╇━━━━━━━━━━━━━━━━━┩\n",
              "│ dense (\u001b[38;5;33mDense\u001b[0m)                        │ (\u001b[38;5;45mNone\u001b[0m, \u001b[38;5;34m128\u001b[0m)                 │           \u001b[38;5;34m1,152\u001b[0m │\n",
              "├──────────────────────────────────────┼─────────────────────────────┼─────────────────┤\n",
              "│ dense_1 (\u001b[38;5;33mDense\u001b[0m)                      │ (\u001b[38;5;45mNone\u001b[0m, \u001b[38;5;34m64\u001b[0m)                  │           \u001b[38;5;34m8,256\u001b[0m │\n",
              "├──────────────────────────────────────┼─────────────────────────────┼─────────────────┤\n",
              "│ dense_2 (\u001b[38;5;33mDense\u001b[0m)                      │ (\u001b[38;5;45mNone\u001b[0m, \u001b[38;5;34m32\u001b[0m)                  │           \u001b[38;5;34m2,080\u001b[0m │\n",
              "├──────────────────────────────────────┼─────────────────────────────┼─────────────────┤\n",
              "│ dense_3 (\u001b[38;5;33mDense\u001b[0m)                      │ (\u001b[38;5;45mNone\u001b[0m, \u001b[38;5;34m1\u001b[0m)                   │              \u001b[38;5;34m33\u001b[0m │\n",
              "└──────────────────────────────────────┴─────────────────────────────┴─────────────────┘\n"
            ],
            "text/html": [
              "<pre style=\"white-space:pre;overflow-x:auto;line-height:normal;font-family:Menlo,'DejaVu Sans Mono',consolas,'Courier New',monospace\">┏━━━━━━━━━━━━━━━━━━━━━━━━━━━━━━━━━━━━━━┳━━━━━━━━━━━━━━━━━━━━━━━━━━━━━┳━━━━━━━━━━━━━━━━━┓\n",
              "┃<span style=\"font-weight: bold\"> Layer (type)                         </span>┃<span style=\"font-weight: bold\"> Output Shape                </span>┃<span style=\"font-weight: bold\">         Param # </span>┃\n",
              "┡━━━━━━━━━━━━━━━━━━━━━━━━━━━━━━━━━━━━━━╇━━━━━━━━━━━━━━━━━━━━━━━━━━━━━╇━━━━━━━━━━━━━━━━━┩\n",
              "│ dense (<span style=\"color: #0087ff; text-decoration-color: #0087ff\">Dense</span>)                        │ (<span style=\"color: #00d7ff; text-decoration-color: #00d7ff\">None</span>, <span style=\"color: #00af00; text-decoration-color: #00af00\">128</span>)                 │           <span style=\"color: #00af00; text-decoration-color: #00af00\">1,152</span> │\n",
              "├──────────────────────────────────────┼─────────────────────────────┼─────────────────┤\n",
              "│ dense_1 (<span style=\"color: #0087ff; text-decoration-color: #0087ff\">Dense</span>)                      │ (<span style=\"color: #00d7ff; text-decoration-color: #00d7ff\">None</span>, <span style=\"color: #00af00; text-decoration-color: #00af00\">64</span>)                  │           <span style=\"color: #00af00; text-decoration-color: #00af00\">8,256</span> │\n",
              "├──────────────────────────────────────┼─────────────────────────────┼─────────────────┤\n",
              "│ dense_2 (<span style=\"color: #0087ff; text-decoration-color: #0087ff\">Dense</span>)                      │ (<span style=\"color: #00d7ff; text-decoration-color: #00d7ff\">None</span>, <span style=\"color: #00af00; text-decoration-color: #00af00\">32</span>)                  │           <span style=\"color: #00af00; text-decoration-color: #00af00\">2,080</span> │\n",
              "├──────────────────────────────────────┼─────────────────────────────┼─────────────────┤\n",
              "│ dense_3 (<span style=\"color: #0087ff; text-decoration-color: #0087ff\">Dense</span>)                      │ (<span style=\"color: #00d7ff; text-decoration-color: #00d7ff\">None</span>, <span style=\"color: #00af00; text-decoration-color: #00af00\">1</span>)                   │              <span style=\"color: #00af00; text-decoration-color: #00af00\">33</span> │\n",
              "└──────────────────────────────────────┴─────────────────────────────┴─────────────────┘\n",
              "</pre>\n"
            ]
          },
          "metadata": {}
        },
        {
          "output_type": "display_data",
          "data": {
            "text/plain": [
              "\u001b[1m Total params: \u001b[0m\u001b[38;5;34m11,521\u001b[0m (45.00 KB)\n"
            ],
            "text/html": [
              "<pre style=\"white-space:pre;overflow-x:auto;line-height:normal;font-family:Menlo,'DejaVu Sans Mono',consolas,'Courier New',monospace\"><span style=\"font-weight: bold\"> Total params: </span><span style=\"color: #00af00; text-decoration-color: #00af00\">11,521</span> (45.00 KB)\n",
              "</pre>\n"
            ]
          },
          "metadata": {}
        },
        {
          "output_type": "display_data",
          "data": {
            "text/plain": [
              "\u001b[1m Trainable params: \u001b[0m\u001b[38;5;34m11,521\u001b[0m (45.00 KB)\n"
            ],
            "text/html": [
              "<pre style=\"white-space:pre;overflow-x:auto;line-height:normal;font-family:Menlo,'DejaVu Sans Mono',consolas,'Courier New',monospace\"><span style=\"font-weight: bold\"> Trainable params: </span><span style=\"color: #00af00; text-decoration-color: #00af00\">11,521</span> (45.00 KB)\n",
              "</pre>\n"
            ]
          },
          "metadata": {}
        },
        {
          "output_type": "display_data",
          "data": {
            "text/plain": [
              "\u001b[1m Non-trainable params: \u001b[0m\u001b[38;5;34m0\u001b[0m (0.00 B)\n"
            ],
            "text/html": [
              "<pre style=\"white-space:pre;overflow-x:auto;line-height:normal;font-family:Menlo,'DejaVu Sans Mono',consolas,'Courier New',monospace\"><span style=\"font-weight: bold\"> Non-trainable params: </span><span style=\"color: #00af00; text-decoration-color: #00af00\">0</span> (0.00 B)\n",
              "</pre>\n"
            ]
          },
          "metadata": {}
        }
      ],
      "source": [
        "model = Sequential([\n",
        "    Dense(128, activation='relu', input_shape=(X_train.shape[1],)),\n",
        "    Dense(64, activation='relu'),\n",
        "    Dense(32, activation='relu'),\n",
        "    Dense(1)\n",
        "])\n",
        "model.compile(optimizer='adam', loss='mse', metrics=['mae'])\n",
        "model.summary()"
      ]
    },
    {
      "cell_type": "code",
      "execution_count": 7,
      "metadata": {
        "colab": {
          "base_uri": "https://localhost:8080/"
        },
        "id": "8csJ03yf5-DN",
        "outputId": "f76acbb6-e166-4a73-c4d4-a7d7b11bde75"
      },
      "outputs": [
        {
          "output_type": "stream",
          "name": "stdout",
          "text": [
            "Epoch 1/200\n",
            "\u001b[1m26/26\u001b[0m \u001b[32m━━━━━━━━━━━━━━━━━━━━\u001b[0m\u001b[37m\u001b[0m \u001b[1m4s\u001b[0m 29ms/step - loss: 1493.2539 - mae: 35.1632 - val_loss: 1214.4033 - val_mae: 31.2368\n",
            "Epoch 2/200\n",
            "\u001b[1m26/26\u001b[0m \u001b[32m━━━━━━━━━━━━━━━━━━━━\u001b[0m\u001b[37m\u001b[0m \u001b[1m0s\u001b[0m 13ms/step - loss: 1096.0653 - mae: 28.8965 - val_loss: 364.0104 - val_mae: 15.4974\n",
            "Epoch 3/200\n",
            "\u001b[1m26/26\u001b[0m \u001b[32m━━━━━━━━━━━━━━━━━━━━\u001b[0m\u001b[37m\u001b[0m \u001b[1m0s\u001b[0m 17ms/step - loss: 311.3543 - mae: 13.8500 - val_loss: 206.2333 - val_mae: 11.6979\n",
            "Epoch 4/200\n",
            "\u001b[1m26/26\u001b[0m \u001b[32m━━━━━━━━━━━━━━━━━━━━\u001b[0m\u001b[37m\u001b[0m \u001b[1m0s\u001b[0m 11ms/step - loss: 207.0250 - mae: 11.4990 - val_loss: 180.5863 - val_mae: 11.0119\n",
            "Epoch 5/200\n",
            "\u001b[1m26/26\u001b[0m \u001b[32m━━━━━━━━━━━━━━━━━━━━\u001b[0m\u001b[37m\u001b[0m \u001b[1m0s\u001b[0m 10ms/step - loss: 198.8635 - mae: 11.4696 - val_loss: 167.3610 - val_mae: 10.6292\n",
            "Epoch 6/200\n",
            "\u001b[1m26/26\u001b[0m \u001b[32m━━━━━━━━━━━━━━━━━━━━\u001b[0m\u001b[37m\u001b[0m \u001b[1m0s\u001b[0m 10ms/step - loss: 188.0433 - mae: 11.0883 - val_loss: 156.1110 - val_mae: 10.3450\n",
            "Epoch 7/200\n",
            "\u001b[1m26/26\u001b[0m \u001b[32m━━━━━━━━━━━━━━━━━━━━\u001b[0m\u001b[37m\u001b[0m \u001b[1m0s\u001b[0m 11ms/step - loss: 171.5714 - mae: 10.6732 - val_loss: 149.6917 - val_mae: 10.1201\n",
            "Epoch 8/200\n",
            "\u001b[1m26/26\u001b[0m \u001b[32m━━━━━━━━━━━━━━━━━━━━\u001b[0m\u001b[37m\u001b[0m \u001b[1m1s\u001b[0m 10ms/step - loss: 156.6266 - mae: 10.0532 - val_loss: 140.6251 - val_mae: 9.8562\n",
            "Epoch 9/200\n",
            "\u001b[1m26/26\u001b[0m \u001b[32m━━━━━━━━━━━━━━━━━━━━\u001b[0m\u001b[37m\u001b[0m \u001b[1m1s\u001b[0m 9ms/step - loss: 155.0956 - mae: 10.0577 - val_loss: 135.4971 - val_mae: 9.6793\n",
            "Epoch 10/200\n",
            "\u001b[1m26/26\u001b[0m \u001b[32m━━━━━━━━━━━━━━━━━━━━\u001b[0m\u001b[37m\u001b[0m \u001b[1m0s\u001b[0m 10ms/step - loss: 155.0493 - mae: 10.0824 - val_loss: 139.0801 - val_mae: 9.7825\n",
            "Epoch 11/200\n",
            "\u001b[1m26/26\u001b[0m \u001b[32m━━━━━━━━━━━━━━━━━━━━\u001b[0m\u001b[37m\u001b[0m \u001b[1m1s\u001b[0m 9ms/step - loss: 143.2746 - mae: 9.7749 - val_loss: 124.2745 - val_mae: 9.2490\n",
            "Epoch 12/200\n",
            "\u001b[1m26/26\u001b[0m \u001b[32m━━━━━━━━━━━━━━━━━━━━\u001b[0m\u001b[37m\u001b[0m \u001b[1m0s\u001b[0m 10ms/step - loss: 141.4518 - mae: 9.5764 - val_loss: 119.0614 - val_mae: 9.0636\n",
            "Epoch 13/200\n",
            "\u001b[1m26/26\u001b[0m \u001b[32m━━━━━━━━━━━━━━━━━━━━\u001b[0m\u001b[37m\u001b[0m \u001b[1m1s\u001b[0m 10ms/step - loss: 122.8997 - mae: 8.7892 - val_loss: 114.3145 - val_mae: 8.8784\n",
            "Epoch 14/200\n",
            "\u001b[1m26/26\u001b[0m \u001b[32m━━━━━━━━━━━━━━━━━━━━\u001b[0m\u001b[37m\u001b[0m \u001b[1m0s\u001b[0m 5ms/step - loss: 127.2965 - mae: 9.2088 - val_loss: 109.3239 - val_mae: 8.7291\n",
            "Epoch 15/200\n",
            "\u001b[1m26/26\u001b[0m \u001b[32m━━━━━━━━━━━━━━━━━━━━\u001b[0m\u001b[37m\u001b[0m \u001b[1m0s\u001b[0m 7ms/step - loss: 120.7620 - mae: 8.8921 - val_loss: 107.4256 - val_mae: 8.5876\n",
            "Epoch 16/200\n",
            "\u001b[1m26/26\u001b[0m \u001b[32m━━━━━━━━━━━━━━━━━━━━\u001b[0m\u001b[37m\u001b[0m \u001b[1m0s\u001b[0m 7ms/step - loss: 110.1083 - mae: 8.3242 - val_loss: 98.2769 - val_mae: 8.1986\n",
            "Epoch 17/200\n",
            "\u001b[1m26/26\u001b[0m \u001b[32m━━━━━━━━━━━━━━━━━━━━\u001b[0m\u001b[37m\u001b[0m \u001b[1m0s\u001b[0m 9ms/step - loss: 104.3544 - mae: 8.3571 - val_loss: 94.2398 - val_mae: 7.9569\n",
            "Epoch 18/200\n",
            "\u001b[1m26/26\u001b[0m \u001b[32m━━━━━━━━━━━━━━━━━━━━\u001b[0m\u001b[37m\u001b[0m \u001b[1m0s\u001b[0m 10ms/step - loss: 98.4099 - mae: 7.9192 - val_loss: 90.1029 - val_mae: 7.8324\n",
            "Epoch 19/200\n",
            "\u001b[1m26/26\u001b[0m \u001b[32m━━━━━━━━━━━━━━━━━━━━\u001b[0m\u001b[37m\u001b[0m \u001b[1m0s\u001b[0m 7ms/step - loss: 98.9034 - mae: 7.9289 - val_loss: 90.4179 - val_mae: 7.8808\n",
            "Epoch 20/200\n",
            "\u001b[1m26/26\u001b[0m \u001b[32m━━━━━━━━━━━━━━━━━━━━\u001b[0m\u001b[37m\u001b[0m \u001b[1m0s\u001b[0m 8ms/step - loss: 89.0626 - mae: 7.5701 - val_loss: 77.7627 - val_mae: 7.1847\n",
            "Epoch 21/200\n",
            "\u001b[1m26/26\u001b[0m \u001b[32m━━━━━━━━━━━━━━━━━━━━\u001b[0m\u001b[37m\u001b[0m \u001b[1m0s\u001b[0m 8ms/step - loss: 80.9098 - mae: 7.1933 - val_loss: 74.0296 - val_mae: 7.0384\n",
            "Epoch 22/200\n",
            "\u001b[1m26/26\u001b[0m \u001b[32m━━━━━━━━━━━━━━━━━━━━\u001b[0m\u001b[37m\u001b[0m \u001b[1m0s\u001b[0m 9ms/step - loss: 76.7719 - mae: 6.9765 - val_loss: 74.8744 - val_mae: 7.0576\n",
            "Epoch 23/200\n",
            "\u001b[1m26/26\u001b[0m \u001b[32m━━━━━━━━━━━━━━━━━━━━\u001b[0m\u001b[37m\u001b[0m \u001b[1m0s\u001b[0m 8ms/step - loss: 70.0751 - mae: 6.6930 - val_loss: 71.5453 - val_mae: 6.8607\n",
            "Epoch 24/200\n",
            "\u001b[1m26/26\u001b[0m \u001b[32m━━━━━━━━━━━━━━━━━━━━\u001b[0m\u001b[37m\u001b[0m \u001b[1m0s\u001b[0m 8ms/step - loss: 65.5009 - mae: 6.3968 - val_loss: 69.0508 - val_mae: 6.6491\n",
            "Epoch 25/200\n",
            "\u001b[1m26/26\u001b[0m \u001b[32m━━━━━━━━━━━━━━━━━━━━\u001b[0m\u001b[37m\u001b[0m \u001b[1m0s\u001b[0m 9ms/step - loss: 62.2516 - mae: 6.1016 - val_loss: 58.2287 - val_mae: 6.1765\n",
            "Epoch 26/200\n",
            "\u001b[1m26/26\u001b[0m \u001b[32m━━━━━━━━━━━━━━━━━━━━\u001b[0m\u001b[37m\u001b[0m \u001b[1m0s\u001b[0m 8ms/step - loss: 55.8831 - mae: 5.8736 - val_loss: 60.0864 - val_mae: 6.1595\n",
            "Epoch 27/200\n",
            "\u001b[1m26/26\u001b[0m \u001b[32m━━━━━━━━━━━━━━━━━━━━\u001b[0m\u001b[37m\u001b[0m \u001b[1m0s\u001b[0m 8ms/step - loss: 57.1638 - mae: 5.8401 - val_loss: 53.6077 - val_mae: 5.8632\n",
            "Epoch 28/200\n",
            "\u001b[1m26/26\u001b[0m \u001b[32m━━━━━━━━━━━━━━━━━━━━\u001b[0m\u001b[37m\u001b[0m \u001b[1m0s\u001b[0m 8ms/step - loss: 51.8692 - mae: 5.5666 - val_loss: 54.3382 - val_mae: 5.7550\n",
            "Epoch 29/200\n",
            "\u001b[1m26/26\u001b[0m \u001b[32m━━━━━━━━━━━━━━━━━━━━\u001b[0m\u001b[37m\u001b[0m \u001b[1m0s\u001b[0m 7ms/step - loss: 52.6963 - mae: 5.5544 - val_loss: 50.2542 - val_mae: 5.4979\n",
            "Epoch 30/200\n",
            "\u001b[1m26/26\u001b[0m \u001b[32m━━━━━━━━━━━━━━━━━━━━\u001b[0m\u001b[37m\u001b[0m \u001b[1m0s\u001b[0m 8ms/step - loss: 47.4166 - mae: 5.2109 - val_loss: 46.3002 - val_mae: 5.2790\n",
            "Epoch 31/200\n",
            "\u001b[1m26/26\u001b[0m \u001b[32m━━━━━━━━━━━━━━━━━━━━\u001b[0m\u001b[37m\u001b[0m \u001b[1m0s\u001b[0m 8ms/step - loss: 44.5384 - mae: 5.0326 - val_loss: 44.4138 - val_mae: 5.1029\n",
            "Epoch 32/200\n",
            "\u001b[1m26/26\u001b[0m \u001b[32m━━━━━━━━━━━━━━━━━━━━\u001b[0m\u001b[37m\u001b[0m \u001b[1m0s\u001b[0m 8ms/step - loss: 42.9044 - mae: 5.0483 - val_loss: 42.8596 - val_mae: 5.1589\n",
            "Epoch 33/200\n",
            "\u001b[1m26/26\u001b[0m \u001b[32m━━━━━━━━━━━━━━━━━━━━\u001b[0m\u001b[37m\u001b[0m \u001b[1m0s\u001b[0m 15ms/step - loss: 42.7650 - mae: 4.8658 - val_loss: 41.0801 - val_mae: 4.9394\n",
            "Epoch 34/200\n",
            "\u001b[1m26/26\u001b[0m \u001b[32m━━━━━━━━━━━━━━━━━━━━\u001b[0m\u001b[37m\u001b[0m \u001b[1m0s\u001b[0m 13ms/step - loss: 44.4308 - mae: 5.0421 - val_loss: 44.4884 - val_mae: 5.0874\n",
            "Epoch 35/200\n",
            "\u001b[1m26/26\u001b[0m \u001b[32m━━━━━━━━━━━━━━━━━━━━\u001b[0m\u001b[37m\u001b[0m \u001b[1m0s\u001b[0m 13ms/step - loss: 39.6142 - mae: 4.5919 - val_loss: 39.5820 - val_mae: 4.8820\n",
            "Epoch 36/200\n",
            "\u001b[1m26/26\u001b[0m \u001b[32m━━━━━━━━━━━━━━━━━━━━\u001b[0m\u001b[37m\u001b[0m \u001b[1m1s\u001b[0m 14ms/step - loss: 43.0953 - mae: 4.8897 - val_loss: 37.5177 - val_mae: 4.6964\n",
            "Epoch 37/200\n",
            "\u001b[1m26/26\u001b[0m \u001b[32m━━━━━━━━━━━━━━━━━━━━\u001b[0m\u001b[37m\u001b[0m \u001b[1m0s\u001b[0m 15ms/step - loss: 36.5227 - mae: 4.4486 - val_loss: 40.3205 - val_mae: 4.8237\n",
            "Epoch 38/200\n",
            "\u001b[1m26/26\u001b[0m \u001b[32m━━━━━━━━━━━━━━━━━━━━\u001b[0m\u001b[37m\u001b[0m \u001b[1m1s\u001b[0m 16ms/step - loss: 35.9353 - mae: 4.4042 - val_loss: 39.2664 - val_mae: 4.8739\n",
            "Epoch 39/200\n",
            "\u001b[1m26/26\u001b[0m \u001b[32m━━━━━━━━━━━━━━━━━━━━\u001b[0m\u001b[37m\u001b[0m \u001b[1m0s\u001b[0m 8ms/step - loss: 31.9586 - mae: 4.2777 - val_loss: 39.6050 - val_mae: 4.8186\n",
            "Epoch 40/200\n",
            "\u001b[1m26/26\u001b[0m \u001b[32m━━━━━━━━━━━━━━━━━━━━\u001b[0m\u001b[37m\u001b[0m \u001b[1m0s\u001b[0m 9ms/step - loss: 32.0660 - mae: 4.2784 - val_loss: 36.3852 - val_mae: 4.6587\n",
            "Epoch 41/200\n",
            "\u001b[1m26/26\u001b[0m \u001b[32m━━━━━━━━━━━━━━━━━━━━\u001b[0m\u001b[37m\u001b[0m \u001b[1m0s\u001b[0m 8ms/step - loss: 33.8147 - mae: 4.3869 - val_loss: 36.9989 - val_mae: 4.6565\n",
            "Epoch 42/200\n",
            "\u001b[1m26/26\u001b[0m \u001b[32m━━━━━━━━━━━━━━━━━━━━\u001b[0m\u001b[37m\u001b[0m \u001b[1m0s\u001b[0m 8ms/step - loss: 33.8804 - mae: 4.3960 - val_loss: 37.0263 - val_mae: 4.6788\n",
            "Epoch 43/200\n",
            "\u001b[1m26/26\u001b[0m \u001b[32m━━━━━━━━━━━━━━━━━━━━\u001b[0m\u001b[37m\u001b[0m \u001b[1m0s\u001b[0m 6ms/step - loss: 32.1769 - mae: 4.2474 - val_loss: 37.2750 - val_mae: 4.7240\n",
            "Epoch 44/200\n",
            "\u001b[1m26/26\u001b[0m \u001b[32m━━━━━━━━━━━━━━━━━━━━\u001b[0m\u001b[37m\u001b[0m \u001b[1m0s\u001b[0m 8ms/step - loss: 30.1162 - mae: 4.1746 - val_loss: 39.8994 - val_mae: 4.7710\n",
            "Epoch 45/200\n",
            "\u001b[1m26/26\u001b[0m \u001b[32m━━━━━━━━━━━━━━━━━━━━\u001b[0m\u001b[37m\u001b[0m \u001b[1m0s\u001b[0m 6ms/step - loss: 31.5169 - mae: 4.1124 - val_loss: 36.5086 - val_mae: 4.6217\n",
            "Epoch 46/200\n",
            "\u001b[1m26/26\u001b[0m \u001b[32m━━━━━━━━━━━━━━━━━━━━\u001b[0m\u001b[37m\u001b[0m \u001b[1m0s\u001b[0m 6ms/step - loss: 28.5700 - mae: 4.0110 - val_loss: 37.8731 - val_mae: 4.7220\n",
            "Epoch 47/200\n",
            "\u001b[1m26/26\u001b[0m \u001b[32m━━━━━━━━━━━━━━━━━━━━\u001b[0m\u001b[37m\u001b[0m \u001b[1m0s\u001b[0m 7ms/step - loss: 32.3478 - mae: 4.1958 - val_loss: 35.6098 - val_mae: 4.4947\n",
            "Epoch 48/200\n",
            "\u001b[1m26/26\u001b[0m \u001b[32m━━━━━━━━━━━━━━━━━━━━\u001b[0m\u001b[37m\u001b[0m \u001b[1m0s\u001b[0m 9ms/step - loss: 27.9939 - mae: 3.9338 - val_loss: 36.3280 - val_mae: 4.5482\n",
            "Epoch 49/200\n",
            "\u001b[1m26/26\u001b[0m \u001b[32m━━━━━━━━━━━━━━━━━━━━\u001b[0m\u001b[37m\u001b[0m \u001b[1m0s\u001b[0m 6ms/step - loss: 25.5919 - mae: 3.8213 - val_loss: 36.9601 - val_mae: 4.6656\n",
            "Epoch 50/200\n",
            "\u001b[1m26/26\u001b[0m \u001b[32m━━━━━━━━━━━━━━━━━━━━\u001b[0m\u001b[37m\u001b[0m \u001b[1m0s\u001b[0m 6ms/step - loss: 25.1677 - mae: 3.7769 - val_loss: 38.9206 - val_mae: 4.6614\n",
            "Epoch 51/200\n",
            "\u001b[1m26/26\u001b[0m \u001b[32m━━━━━━━━━━━━━━━━━━━━\u001b[0m\u001b[37m\u001b[0m \u001b[1m0s\u001b[0m 6ms/step - loss: 25.2221 - mae: 3.8010 - val_loss: 33.2904 - val_mae: 4.2976\n",
            "Epoch 52/200\n",
            "\u001b[1m26/26\u001b[0m \u001b[32m━━━━━━━━━━━━━━━━━━━━\u001b[0m\u001b[37m\u001b[0m \u001b[1m0s\u001b[0m 6ms/step - loss: 28.6342 - mae: 3.9507 - val_loss: 36.5368 - val_mae: 4.5396\n",
            "Epoch 53/200\n",
            "\u001b[1m26/26\u001b[0m \u001b[32m━━━━━━━━━━━━━━━━━━━━\u001b[0m\u001b[37m\u001b[0m \u001b[1m0s\u001b[0m 7ms/step - loss: 25.4487 - mae: 3.8118 - val_loss: 35.3123 - val_mae: 4.4983\n",
            "Epoch 54/200\n",
            "\u001b[1m26/26\u001b[0m \u001b[32m━━━━━━━━━━━━━━━━━━━━\u001b[0m\u001b[37m\u001b[0m \u001b[1m0s\u001b[0m 7ms/step - loss: 27.0611 - mae: 3.9186 - val_loss: 37.1993 - val_mae: 4.5342\n",
            "Epoch 55/200\n",
            "\u001b[1m26/26\u001b[0m \u001b[32m━━━━━━━━━━━━━━━━━━━━\u001b[0m\u001b[37m\u001b[0m \u001b[1m0s\u001b[0m 6ms/step - loss: 25.2189 - mae: 3.7740 - val_loss: 36.1676 - val_mae: 4.6552\n",
            "Epoch 56/200\n",
            "\u001b[1m26/26\u001b[0m \u001b[32m━━━━━━━━━━━━━━━━━━━━\u001b[0m\u001b[37m\u001b[0m \u001b[1m0s\u001b[0m 6ms/step - loss: 24.5811 - mae: 3.7413 - val_loss: 34.1637 - val_mae: 4.4438\n",
            "Epoch 57/200\n",
            "\u001b[1m26/26\u001b[0m \u001b[32m━━━━━━━━━━━━━━━━━━━━\u001b[0m\u001b[37m\u001b[0m \u001b[1m0s\u001b[0m 6ms/step - loss: 24.8767 - mae: 3.8600 - val_loss: 34.7646 - val_mae: 4.4068\n",
            "Epoch 58/200\n",
            "\u001b[1m26/26\u001b[0m \u001b[32m━━━━━━━━━━━━━━━━━━━━\u001b[0m\u001b[37m\u001b[0m \u001b[1m0s\u001b[0m 6ms/step - loss: 24.6803 - mae: 3.6855 - val_loss: 35.1338 - val_mae: 4.4613\n",
            "Epoch 59/200\n",
            "\u001b[1m26/26\u001b[0m \u001b[32m━━━━━━━━━━━━━━━━━━━━\u001b[0m\u001b[37m\u001b[0m \u001b[1m0s\u001b[0m 7ms/step - loss: 22.4137 - mae: 3.5548 - val_loss: 33.7119 - val_mae: 4.3658\n",
            "Epoch 60/200\n",
            "\u001b[1m26/26\u001b[0m \u001b[32m━━━━━━━━━━━━━━━━━━━━\u001b[0m\u001b[37m\u001b[0m \u001b[1m0s\u001b[0m 6ms/step - loss: 24.0695 - mae: 3.6401 - val_loss: 33.4726 - val_mae: 4.3588\n",
            "Epoch 61/200\n",
            "\u001b[1m26/26\u001b[0m \u001b[32m━━━━━━━━━━━━━━━━━━━━\u001b[0m\u001b[37m\u001b[0m \u001b[1m0s\u001b[0m 6ms/step - loss: 24.8739 - mae: 3.7491 - val_loss: 35.3129 - val_mae: 4.4761\n",
            "Epoch 62/200\n",
            "\u001b[1m26/26\u001b[0m \u001b[32m━━━━━━━━━━━━━━━━━━━━\u001b[0m\u001b[37m\u001b[0m \u001b[1m0s\u001b[0m 6ms/step - loss: 24.1953 - mae: 3.7327 - val_loss: 36.0425 - val_mae: 4.5596\n",
            "Epoch 63/200\n",
            "\u001b[1m26/26\u001b[0m \u001b[32m━━━━━━━━━━━━━━━━━━━━\u001b[0m\u001b[37m\u001b[0m \u001b[1m0s\u001b[0m 7ms/step - loss: 20.2514 - mae: 3.4537 - val_loss: 34.3043 - val_mae: 4.3136\n",
            "Epoch 64/200\n",
            "\u001b[1m26/26\u001b[0m \u001b[32m━━━━━━━━━━━━━━━━━━━━\u001b[0m\u001b[37m\u001b[0m \u001b[1m0s\u001b[0m 6ms/step - loss: 24.2488 - mae: 3.6064 - val_loss: 34.6015 - val_mae: 4.4124\n",
            "Epoch 65/200\n",
            "\u001b[1m26/26\u001b[0m \u001b[32m━━━━━━━━━━━━━━━━━━━━\u001b[0m\u001b[37m\u001b[0m \u001b[1m0s\u001b[0m 7ms/step - loss: 21.7136 - mae: 3.5340 - val_loss: 33.8997 - val_mae: 4.4297\n",
            "Epoch 66/200\n",
            "\u001b[1m26/26\u001b[0m \u001b[32m━━━━━━━━━━━━━━━━━━━━\u001b[0m\u001b[37m\u001b[0m \u001b[1m0s\u001b[0m 6ms/step - loss: 20.4474 - mae: 3.4437 - val_loss: 36.1989 - val_mae: 4.5775\n",
            "Epoch 67/200\n",
            "\u001b[1m26/26\u001b[0m \u001b[32m━━━━━━━━━━━━━━━━━━━━\u001b[0m\u001b[37m\u001b[0m \u001b[1m0s\u001b[0m 6ms/step - loss: 22.6173 - mae: 3.6010 - val_loss: 33.0136 - val_mae: 4.2974\n",
            "Epoch 68/200\n",
            "\u001b[1m26/26\u001b[0m \u001b[32m━━━━━━━━━━━━━━━━━━━━\u001b[0m\u001b[37m\u001b[0m \u001b[1m0s\u001b[0m 6ms/step - loss: 20.6180 - mae: 3.4128 - val_loss: 39.2479 - val_mae: 4.5848\n",
            "Epoch 69/200\n",
            "\u001b[1m26/26\u001b[0m \u001b[32m━━━━━━━━━━━━━━━━━━━━\u001b[0m\u001b[37m\u001b[0m \u001b[1m0s\u001b[0m 6ms/step - loss: 20.4723 - mae: 3.4265 - val_loss: 37.5786 - val_mae: 4.4510\n",
            "Epoch 70/200\n",
            "\u001b[1m26/26\u001b[0m \u001b[32m━━━━━━━━━━━━━━━━━━━━\u001b[0m\u001b[37m\u001b[0m \u001b[1m0s\u001b[0m 6ms/step - loss: 21.9269 - mae: 3.4848 - val_loss: 35.9134 - val_mae: 4.5368\n",
            "Epoch 71/200\n",
            "\u001b[1m26/26\u001b[0m \u001b[32m━━━━━━━━━━━━━━━━━━━━\u001b[0m\u001b[37m\u001b[0m \u001b[1m0s\u001b[0m 6ms/step - loss: 21.2602 - mae: 3.4959 - val_loss: 32.9780 - val_mae: 4.2985\n",
            "Epoch 72/200\n",
            "\u001b[1m26/26\u001b[0m \u001b[32m━━━━━━━━━━━━━━━━━━━━\u001b[0m\u001b[37m\u001b[0m \u001b[1m0s\u001b[0m 7ms/step - loss: 20.6307 - mae: 3.4109 - val_loss: 34.9555 - val_mae: 4.3910\n",
            "Epoch 73/200\n",
            "\u001b[1m26/26\u001b[0m \u001b[32m━━━━━━━━━━━━━━━━━━━━\u001b[0m\u001b[37m\u001b[0m \u001b[1m0s\u001b[0m 7ms/step - loss: 18.5201 - mae: 3.2698 - val_loss: 33.4990 - val_mae: 4.1836\n",
            "Epoch 74/200\n",
            "\u001b[1m26/26\u001b[0m \u001b[32m━━━━━━━━━━━━━━━━━━━━\u001b[0m\u001b[37m\u001b[0m \u001b[1m0s\u001b[0m 6ms/step - loss: 20.8575 - mae: 3.4958 - val_loss: 34.8456 - val_mae: 4.3226\n",
            "Epoch 75/200\n",
            "\u001b[1m26/26\u001b[0m \u001b[32m━━━━━━━━━━━━━━━━━━━━\u001b[0m\u001b[37m\u001b[0m \u001b[1m0s\u001b[0m 7ms/step - loss: 24.0659 - mae: 3.7776 - val_loss: 35.0584 - val_mae: 4.4124\n",
            "Epoch 76/200\n",
            "\u001b[1m26/26\u001b[0m \u001b[32m━━━━━━━━━━━━━━━━━━━━\u001b[0m\u001b[37m\u001b[0m \u001b[1m0s\u001b[0m 7ms/step - loss: 21.0785 - mae: 3.4917 - val_loss: 33.0544 - val_mae: 4.2267\n",
            "Epoch 77/200\n",
            "\u001b[1m26/26\u001b[0m \u001b[32m━━━━━━━━━━━━━━━━━━━━\u001b[0m\u001b[37m\u001b[0m \u001b[1m0s\u001b[0m 7ms/step - loss: 23.1450 - mae: 3.5981 - val_loss: 33.8680 - val_mae: 4.3433\n",
            "Epoch 78/200\n",
            "\u001b[1m26/26\u001b[0m \u001b[32m━━━━━━━━━━━━━━━━━━━━\u001b[0m\u001b[37m\u001b[0m \u001b[1m0s\u001b[0m 9ms/step - loss: 18.6527 - mae: 3.2513 - val_loss: 34.8534 - val_mae: 4.3469\n",
            "Epoch 79/200\n",
            "\u001b[1m26/26\u001b[0m \u001b[32m━━━━━━━━━━━━━━━━━━━━\u001b[0m\u001b[37m\u001b[0m \u001b[1m0s\u001b[0m 10ms/step - loss: 17.5436 - mae: 3.0853 - val_loss: 37.5564 - val_mae: 4.4560\n",
            "Epoch 80/200\n",
            "\u001b[1m26/26\u001b[0m \u001b[32m━━━━━━━━━━━━━━━━━━━━\u001b[0m\u001b[37m\u001b[0m \u001b[1m0s\u001b[0m 10ms/step - loss: 17.3102 - mae: 3.0820 - val_loss: 34.0389 - val_mae: 4.2651\n",
            "Epoch 81/200\n",
            "\u001b[1m26/26\u001b[0m \u001b[32m━━━━━━━━━━━━━━━━━━━━\u001b[0m\u001b[37m\u001b[0m \u001b[1m1s\u001b[0m 9ms/step - loss: 17.8253 - mae: 3.2158 - val_loss: 34.3942 - val_mae: 4.2141\n",
            "Epoch 82/200\n",
            "\u001b[1m26/26\u001b[0m \u001b[32m━━━━━━━━━━━━━━━━━━━━\u001b[0m\u001b[37m\u001b[0m \u001b[1m0s\u001b[0m 10ms/step - loss: 17.5355 - mae: 3.1604 - val_loss: 32.5272 - val_mae: 4.2319\n",
            "Epoch 83/200\n",
            "\u001b[1m26/26\u001b[0m \u001b[32m━━━━━━━━━━━━━━━━━━━━\u001b[0m\u001b[37m\u001b[0m \u001b[1m0s\u001b[0m 10ms/step - loss: 15.7275 - mae: 3.0207 - val_loss: 33.6473 - val_mae: 4.2172\n",
            "Epoch 84/200\n",
            "\u001b[1m26/26\u001b[0m \u001b[32m━━━━━━━━━━━━━━━━━━━━\u001b[0m\u001b[37m\u001b[0m \u001b[1m0s\u001b[0m 9ms/step - loss: 18.0651 - mae: 3.2120 - val_loss: 34.0174 - val_mae: 4.3220\n",
            "Epoch 85/200\n",
            "\u001b[1m26/26\u001b[0m \u001b[32m━━━━━━━━━━━━━━━━━━━━\u001b[0m\u001b[37m\u001b[0m \u001b[1m0s\u001b[0m 7ms/step - loss: 16.0168 - mae: 3.0327 - val_loss: 32.4111 - val_mae: 4.0843\n",
            "Epoch 86/200\n",
            "\u001b[1m26/26\u001b[0m \u001b[32m━━━━━━━━━━━━━━━━━━━━\u001b[0m\u001b[37m\u001b[0m \u001b[1m0s\u001b[0m 8ms/step - loss: 18.9156 - mae: 3.2486 - val_loss: 33.0531 - val_mae: 4.2273\n",
            "Epoch 87/200\n",
            "\u001b[1m26/26\u001b[0m \u001b[32m━━━━━━━━━━━━━━━━━━━━\u001b[0m\u001b[37m\u001b[0m \u001b[1m0s\u001b[0m 6ms/step - loss: 15.5025 - mae: 2.9368 - val_loss: 31.8486 - val_mae: 4.0664\n",
            "Epoch 88/200\n",
            "\u001b[1m26/26\u001b[0m \u001b[32m━━━━━━━━━━━━━━━━━━━━\u001b[0m\u001b[37m\u001b[0m \u001b[1m0s\u001b[0m 7ms/step - loss: 17.1222 - mae: 3.1590 - val_loss: 36.2112 - val_mae: 4.3977\n",
            "Epoch 89/200\n",
            "\u001b[1m26/26\u001b[0m \u001b[32m━━━━━━━━━━━━━━━━━━━━\u001b[0m\u001b[37m\u001b[0m \u001b[1m0s\u001b[0m 5ms/step - loss: 18.3404 - mae: 3.2756 - val_loss: 34.1387 - val_mae: 4.2164\n",
            "Epoch 90/200\n",
            "\u001b[1m26/26\u001b[0m \u001b[32m━━━━━━━━━━━━━━━━━━━━\u001b[0m\u001b[37m\u001b[0m \u001b[1m0s\u001b[0m 7ms/step - loss: 15.6514 - mae: 2.9713 - val_loss: 31.0341 - val_mae: 4.0653\n",
            "Epoch 91/200\n",
            "\u001b[1m26/26\u001b[0m \u001b[32m━━━━━━━━━━━━━━━━━━━━\u001b[0m\u001b[37m\u001b[0m \u001b[1m0s\u001b[0m 7ms/step - loss: 14.9126 - mae: 2.9291 - val_loss: 33.4933 - val_mae: 4.1912\n",
            "Epoch 92/200\n",
            "\u001b[1m26/26\u001b[0m \u001b[32m━━━━━━━━━━━━━━━━━━━━\u001b[0m\u001b[37m\u001b[0m \u001b[1m0s\u001b[0m 6ms/step - loss: 17.4217 - mae: 3.1817 - val_loss: 32.7961 - val_mae: 4.0996\n",
            "Epoch 93/200\n",
            "\u001b[1m26/26\u001b[0m \u001b[32m━━━━━━━━━━━━━━━━━━━━\u001b[0m\u001b[37m\u001b[0m \u001b[1m0s\u001b[0m 6ms/step - loss: 16.2527 - mae: 3.0503 - val_loss: 32.2376 - val_mae: 4.0050\n",
            "Epoch 94/200\n",
            "\u001b[1m26/26\u001b[0m \u001b[32m━━━━━━━━━━━━━━━━━━━━\u001b[0m\u001b[37m\u001b[0m \u001b[1m0s\u001b[0m 8ms/step - loss: 15.9181 - mae: 3.0318 - val_loss: 35.9168 - val_mae: 4.3582\n",
            "Epoch 95/200\n",
            "\u001b[1m26/26\u001b[0m \u001b[32m━━━━━━━━━━━━━━━━━━━━\u001b[0m\u001b[37m\u001b[0m \u001b[1m0s\u001b[0m 8ms/step - loss: 17.1519 - mae: 3.1067 - val_loss: 34.1730 - val_mae: 4.0166\n",
            "Epoch 96/200\n",
            "\u001b[1m26/26\u001b[0m \u001b[32m━━━━━━━━━━━━━━━━━━━━\u001b[0m\u001b[37m\u001b[0m \u001b[1m0s\u001b[0m 6ms/step - loss: 16.5973 - mae: 3.1302 - val_loss: 34.2326 - val_mae: 4.1482\n",
            "Epoch 97/200\n",
            "\u001b[1m26/26\u001b[0m \u001b[32m━━━━━━━━━━━━━━━━━━━━\u001b[0m\u001b[37m\u001b[0m \u001b[1m0s\u001b[0m 6ms/step - loss: 17.0733 - mae: 3.1095 - val_loss: 33.0408 - val_mae: 4.0335\n",
            "Epoch 98/200\n",
            "\u001b[1m26/26\u001b[0m \u001b[32m━━━━━━━━━━━━━━━━━━━━\u001b[0m\u001b[37m\u001b[0m \u001b[1m0s\u001b[0m 7ms/step - loss: 13.9169 - mae: 2.8068 - val_loss: 31.3493 - val_mae: 4.0032\n",
            "Epoch 99/200\n",
            "\u001b[1m26/26\u001b[0m \u001b[32m━━━━━━━━━━━━━━━━━━━━\u001b[0m\u001b[37m\u001b[0m \u001b[1m0s\u001b[0m 6ms/step - loss: 13.7302 - mae: 2.7409 - val_loss: 33.9801 - val_mae: 4.1553\n",
            "Epoch 100/200\n",
            "\u001b[1m26/26\u001b[0m \u001b[32m━━━━━━━━━━━━━━━━━━━━\u001b[0m\u001b[37m\u001b[0m \u001b[1m0s\u001b[0m 6ms/step - loss: 17.1087 - mae: 3.0793 - val_loss: 33.9333 - val_mae: 4.1669\n",
            "Epoch 101/200\n",
            "\u001b[1m26/26\u001b[0m \u001b[32m━━━━━━━━━━━━━━━━━━━━\u001b[0m\u001b[37m\u001b[0m \u001b[1m0s\u001b[0m 6ms/step - loss: 14.7075 - mae: 2.8389 - val_loss: 31.2493 - val_mae: 4.0231\n",
            "Epoch 102/200\n",
            "\u001b[1m26/26\u001b[0m \u001b[32m━━━━━━━━━━━━━━━━━━━━\u001b[0m\u001b[37m\u001b[0m \u001b[1m0s\u001b[0m 6ms/step - loss: 16.0003 - mae: 3.0037 - val_loss: 32.9010 - val_mae: 4.1687\n",
            "Epoch 103/200\n",
            "\u001b[1m26/26\u001b[0m \u001b[32m━━━━━━━━━━━━━━━━━━━━\u001b[0m\u001b[37m\u001b[0m \u001b[1m0s\u001b[0m 7ms/step - loss: 13.7670 - mae: 2.8080 - val_loss: 33.2999 - val_mae: 4.1065\n",
            "Epoch 104/200\n",
            "\u001b[1m26/26\u001b[0m \u001b[32m━━━━━━━━━━━━━━━━━━━━\u001b[0m\u001b[37m\u001b[0m \u001b[1m0s\u001b[0m 6ms/step - loss: 15.2650 - mae: 2.8709 - val_loss: 32.9854 - val_mae: 4.0269\n",
            "Epoch 105/200\n",
            "\u001b[1m26/26\u001b[0m \u001b[32m━━━━━━━━━━━━━━━━━━━━\u001b[0m\u001b[37m\u001b[0m \u001b[1m0s\u001b[0m 6ms/step - loss: 14.5455 - mae: 2.7899 - val_loss: 31.8591 - val_mae: 4.0931\n",
            "Epoch 106/200\n",
            "\u001b[1m26/26\u001b[0m \u001b[32m━━━━━━━━━━━━━━━━━━━━\u001b[0m\u001b[37m\u001b[0m \u001b[1m0s\u001b[0m 7ms/step - loss: 14.0886 - mae: 2.8666 - val_loss: 31.6785 - val_mae: 3.9588\n",
            "Epoch 107/200\n",
            "\u001b[1m26/26\u001b[0m \u001b[32m━━━━━━━━━━━━━━━━━━━━\u001b[0m\u001b[37m\u001b[0m \u001b[1m0s\u001b[0m 6ms/step - loss: 14.0387 - mae: 2.8237 - val_loss: 31.9007 - val_mae: 4.0138\n",
            "Epoch 108/200\n",
            "\u001b[1m26/26\u001b[0m \u001b[32m━━━━━━━━━━━━━━━━━━━━\u001b[0m\u001b[37m\u001b[0m \u001b[1m0s\u001b[0m 8ms/step - loss: 12.9933 - mae: 2.7058 - val_loss: 32.1994 - val_mae: 4.1033\n",
            "Epoch 109/200\n",
            "\u001b[1m26/26\u001b[0m \u001b[32m━━━━━━━━━━━━━━━━━━━━\u001b[0m\u001b[37m\u001b[0m \u001b[1m0s\u001b[0m 7ms/step - loss: 13.8747 - mae: 2.8315 - val_loss: 31.9073 - val_mae: 4.0177\n",
            "Epoch 110/200\n",
            "\u001b[1m26/26\u001b[0m \u001b[32m━━━━━━━━━━━━━━━━━━━━\u001b[0m\u001b[37m\u001b[0m \u001b[1m0s\u001b[0m 6ms/step - loss: 13.3493 - mae: 2.6943 - val_loss: 31.7460 - val_mae: 4.0166\n",
            "Epoch 111/200\n",
            "\u001b[1m26/26\u001b[0m \u001b[32m━━━━━━━━━━━━━━━━━━━━\u001b[0m\u001b[37m\u001b[0m \u001b[1m0s\u001b[0m 8ms/step - loss: 13.6687 - mae: 2.8325 - val_loss: 32.3508 - val_mae: 4.0394\n",
            "Epoch 112/200\n",
            "\u001b[1m26/26\u001b[0m \u001b[32m━━━━━━━━━━━━━━━━━━━━\u001b[0m\u001b[37m\u001b[0m \u001b[1m0s\u001b[0m 7ms/step - loss: 13.3021 - mae: 2.6709 - val_loss: 31.5317 - val_mae: 4.0080\n",
            "Epoch 113/200\n",
            "\u001b[1m26/26\u001b[0m \u001b[32m━━━━━━━━━━━━━━━━━━━━\u001b[0m\u001b[37m\u001b[0m \u001b[1m0s\u001b[0m 6ms/step - loss: 12.8251 - mae: 2.7050 - val_loss: 29.7444 - val_mae: 3.8361\n",
            "Epoch 114/200\n",
            "\u001b[1m26/26\u001b[0m \u001b[32m━━━━━━━━━━━━━━━━━━━━\u001b[0m\u001b[37m\u001b[0m \u001b[1m0s\u001b[0m 7ms/step - loss: 12.5596 - mae: 2.6588 - val_loss: 30.9214 - val_mae: 3.9133\n",
            "Epoch 115/200\n",
            "\u001b[1m26/26\u001b[0m \u001b[32m━━━━━━━━━━━━━━━━━━━━\u001b[0m\u001b[37m\u001b[0m \u001b[1m0s\u001b[0m 6ms/step - loss: 13.4718 - mae: 2.7821 - val_loss: 33.4009 - val_mae: 4.1460\n",
            "Epoch 116/200\n",
            "\u001b[1m26/26\u001b[0m \u001b[32m━━━━━━━━━━━━━━━━━━━━\u001b[0m\u001b[37m\u001b[0m \u001b[1m0s\u001b[0m 5ms/step - loss: 14.2765 - mae: 2.8526 - val_loss: 31.7962 - val_mae: 3.9676\n",
            "Epoch 117/200\n",
            "\u001b[1m26/26\u001b[0m \u001b[32m━━━━━━━━━━━━━━━━━━━━\u001b[0m\u001b[37m\u001b[0m \u001b[1m0s\u001b[0m 6ms/step - loss: 11.8478 - mae: 2.5123 - val_loss: 31.5337 - val_mae: 3.9872\n",
            "Epoch 118/200\n",
            "\u001b[1m26/26\u001b[0m \u001b[32m━━━━━━━━━━━━━━━━━━━━\u001b[0m\u001b[37m\u001b[0m \u001b[1m0s\u001b[0m 7ms/step - loss: 14.8969 - mae: 2.9084 - val_loss: 30.4079 - val_mae: 3.9209\n",
            "Epoch 119/200\n",
            "\u001b[1m26/26\u001b[0m \u001b[32m━━━━━━━━━━━━━━━━━━━━\u001b[0m\u001b[37m\u001b[0m \u001b[1m0s\u001b[0m 6ms/step - loss: 14.1287 - mae: 2.7797 - val_loss: 30.9307 - val_mae: 3.9511\n",
            "Epoch 120/200\n",
            "\u001b[1m26/26\u001b[0m \u001b[32m━━━━━━━━━━━━━━━━━━━━\u001b[0m\u001b[37m\u001b[0m \u001b[1m0s\u001b[0m 6ms/step - loss: 12.7846 - mae: 2.6551 - val_loss: 31.2632 - val_mae: 3.8556\n",
            "Epoch 121/200\n",
            "\u001b[1m26/26\u001b[0m \u001b[32m━━━━━━━━━━━━━━━━━━━━\u001b[0m\u001b[37m\u001b[0m \u001b[1m0s\u001b[0m 6ms/step - loss: 13.6499 - mae: 2.8004 - val_loss: 31.3211 - val_mae: 4.0114\n",
            "Epoch 122/200\n",
            "\u001b[1m26/26\u001b[0m \u001b[32m━━━━━━━━━━━━━━━━━━━━\u001b[0m\u001b[37m\u001b[0m \u001b[1m0s\u001b[0m 7ms/step - loss: 12.9295 - mae: 2.6508 - val_loss: 30.7481 - val_mae: 3.9306\n",
            "Epoch 123/200\n",
            "\u001b[1m26/26\u001b[0m \u001b[32m━━━━━━━━━━━━━━━━━━━━\u001b[0m\u001b[37m\u001b[0m \u001b[1m0s\u001b[0m 6ms/step - loss: 12.0364 - mae: 2.5059 - val_loss: 32.9491 - val_mae: 4.0260\n",
            "Epoch 124/200\n",
            "\u001b[1m26/26\u001b[0m \u001b[32m━━━━━━━━━━━━━━━━━━━━\u001b[0m\u001b[37m\u001b[0m \u001b[1m0s\u001b[0m 9ms/step - loss: 12.2232 - mae: 2.6056 - val_loss: 29.8241 - val_mae: 3.8670\n",
            "Epoch 125/200\n",
            "\u001b[1m26/26\u001b[0m \u001b[32m━━━━━━━━━━━━━━━━━━━━\u001b[0m\u001b[37m\u001b[0m \u001b[1m0s\u001b[0m 11ms/step - loss: 13.7079 - mae: 2.6679 - val_loss: 31.2982 - val_mae: 4.0076\n",
            "Epoch 126/200\n",
            "\u001b[1m26/26\u001b[0m \u001b[32m━━━━━━━━━━━━━━━━━━━━\u001b[0m\u001b[37m\u001b[0m \u001b[1m0s\u001b[0m 8ms/step - loss: 11.7272 - mae: 2.5124 - val_loss: 29.9261 - val_mae: 3.8048\n",
            "Epoch 127/200\n",
            "\u001b[1m26/26\u001b[0m \u001b[32m━━━━━━━━━━━━━━━━━━━━\u001b[0m\u001b[37m\u001b[0m \u001b[1m0s\u001b[0m 9ms/step - loss: 11.5272 - mae: 2.5381 - val_loss: 29.2474 - val_mae: 3.7454\n",
            "Epoch 128/200\n",
            "\u001b[1m26/26\u001b[0m \u001b[32m━━━━━━━━━━━━━━━━━━━━\u001b[0m\u001b[37m\u001b[0m \u001b[1m0s\u001b[0m 10ms/step - loss: 11.1194 - mae: 2.4203 - val_loss: 34.2694 - val_mae: 4.2170\n",
            "Epoch 129/200\n",
            "\u001b[1m26/26\u001b[0m \u001b[32m━━━━━━━━━━━━━━━━━━━━\u001b[0m\u001b[37m\u001b[0m \u001b[1m0s\u001b[0m 11ms/step - loss: 13.3439 - mae: 2.7579 - val_loss: 31.3322 - val_mae: 3.9356\n",
            "Epoch 130/200\n",
            "\u001b[1m26/26\u001b[0m \u001b[32m━━━━━━━━━━━━━━━━━━━━\u001b[0m\u001b[37m\u001b[0m \u001b[1m1s\u001b[0m 8ms/step - loss: 13.1116 - mae: 2.7040 - val_loss: 32.2187 - val_mae: 4.0532\n",
            "Epoch 131/200\n",
            "\u001b[1m26/26\u001b[0m \u001b[32m━━━━━━━━━━━━━━━━━━━━\u001b[0m\u001b[37m\u001b[0m \u001b[1m0s\u001b[0m 6ms/step - loss: 12.0270 - mae: 2.5421 - val_loss: 29.1872 - val_mae: 3.8100\n",
            "Epoch 132/200\n",
            "\u001b[1m26/26\u001b[0m \u001b[32m━━━━━━━━━━━━━━━━━━━━\u001b[0m\u001b[37m\u001b[0m \u001b[1m0s\u001b[0m 7ms/step - loss: 11.6660 - mae: 2.5751 - val_loss: 29.8377 - val_mae: 3.7260\n",
            "Epoch 133/200\n",
            "\u001b[1m26/26\u001b[0m \u001b[32m━━━━━━━━━━━━━━━━━━━━\u001b[0m\u001b[37m\u001b[0m \u001b[1m0s\u001b[0m 6ms/step - loss: 12.5489 - mae: 2.6325 - val_loss: 30.8384 - val_mae: 3.9251\n",
            "Epoch 134/200\n",
            "\u001b[1m26/26\u001b[0m \u001b[32m━━━━━━━━━━━━━━━━━━━━\u001b[0m\u001b[37m\u001b[0m \u001b[1m0s\u001b[0m 6ms/step - loss: 10.9904 - mae: 2.4066 - val_loss: 30.4062 - val_mae: 3.8538\n",
            "Epoch 135/200\n",
            "\u001b[1m26/26\u001b[0m \u001b[32m━━━━━━━━━━━━━━━━━━━━\u001b[0m\u001b[37m\u001b[0m \u001b[1m0s\u001b[0m 6ms/step - loss: 11.0995 - mae: 2.4797 - val_loss: 29.4219 - val_mae: 3.8120\n",
            "Epoch 136/200\n",
            "\u001b[1m26/26\u001b[0m \u001b[32m━━━━━━━━━━━━━━━━━━━━\u001b[0m\u001b[37m\u001b[0m \u001b[1m0s\u001b[0m 7ms/step - loss: 11.2873 - mae: 2.5039 - val_loss: 29.8452 - val_mae: 3.8360\n",
            "Epoch 137/200\n",
            "\u001b[1m26/26\u001b[0m \u001b[32m━━━━━━━━━━━━━━━━━━━━\u001b[0m\u001b[37m\u001b[0m \u001b[1m0s\u001b[0m 6ms/step - loss: 11.5078 - mae: 2.5264 - val_loss: 29.6924 - val_mae: 3.8226\n",
            "Epoch 138/200\n",
            "\u001b[1m26/26\u001b[0m \u001b[32m━━━━━━━━━━━━━━━━━━━━\u001b[0m\u001b[37m\u001b[0m \u001b[1m0s\u001b[0m 7ms/step - loss: 11.7534 - mae: 2.4993 - val_loss: 28.1615 - val_mae: 3.6359\n",
            "Epoch 139/200\n",
            "\u001b[1m26/26\u001b[0m \u001b[32m━━━━━━━━━━━━━━━━━━━━\u001b[0m\u001b[37m\u001b[0m \u001b[1m0s\u001b[0m 7ms/step - loss: 11.2475 - mae: 2.4811 - val_loss: 31.2555 - val_mae: 3.8315\n",
            "Epoch 140/200\n",
            "\u001b[1m26/26\u001b[0m \u001b[32m━━━━━━━━━━━━━━━━━━━━\u001b[0m\u001b[37m\u001b[0m \u001b[1m0s\u001b[0m 7ms/step - loss: 11.1480 - mae: 2.3829 - val_loss: 29.8246 - val_mae: 3.7737\n",
            "Epoch 141/200\n",
            "\u001b[1m26/26\u001b[0m \u001b[32m━━━━━━━━━━━━━━━━━━━━\u001b[0m\u001b[37m\u001b[0m \u001b[1m0s\u001b[0m 6ms/step - loss: 12.0404 - mae: 2.5451 - val_loss: 30.1078 - val_mae: 3.7981\n",
            "Epoch 142/200\n",
            "\u001b[1m26/26\u001b[0m \u001b[32m━━━━━━━━━━━━━━━━━━━━\u001b[0m\u001b[37m\u001b[0m \u001b[1m0s\u001b[0m 6ms/step - loss: 11.0491 - mae: 2.4933 - val_loss: 29.9874 - val_mae: 3.8146\n",
            "Epoch 143/200\n",
            "\u001b[1m26/26\u001b[0m \u001b[32m━━━━━━━━━━━━━━━━━━━━\u001b[0m\u001b[37m\u001b[0m \u001b[1m0s\u001b[0m 7ms/step - loss: 10.7138 - mae: 2.4226 - val_loss: 31.2969 - val_mae: 3.9080\n",
            "Epoch 144/200\n",
            "\u001b[1m26/26\u001b[0m \u001b[32m━━━━━━━━━━━━━━━━━━━━\u001b[0m\u001b[37m\u001b[0m \u001b[1m0s\u001b[0m 7ms/step - loss: 12.4979 - mae: 2.6228 - val_loss: 29.6998 - val_mae: 3.7477\n",
            "Epoch 145/200\n",
            "\u001b[1m26/26\u001b[0m \u001b[32m━━━━━━━━━━━━━━━━━━━━\u001b[0m\u001b[37m\u001b[0m \u001b[1m0s\u001b[0m 7ms/step - loss: 11.9500 - mae: 2.5227 - val_loss: 30.3955 - val_mae: 3.7545\n",
            "Epoch 146/200\n",
            "\u001b[1m26/26\u001b[0m \u001b[32m━━━━━━━━━━━━━━━━━━━━\u001b[0m\u001b[37m\u001b[0m \u001b[1m0s\u001b[0m 6ms/step - loss: 10.6057 - mae: 2.3448 - val_loss: 32.1711 - val_mae: 3.9134\n",
            "Epoch 147/200\n",
            "\u001b[1m26/26\u001b[0m \u001b[32m━━━━━━━━━━━━━━━━━━━━\u001b[0m\u001b[37m\u001b[0m \u001b[1m0s\u001b[0m 6ms/step - loss: 12.3150 - mae: 2.5646 - val_loss: 31.6437 - val_mae: 3.9005\n",
            "Epoch 148/200\n",
            "\u001b[1m26/26\u001b[0m \u001b[32m━━━━━━━━━━━━━━━━━━━━\u001b[0m\u001b[37m\u001b[0m \u001b[1m0s\u001b[0m 6ms/step - loss: 12.6726 - mae: 2.6607 - val_loss: 31.2213 - val_mae: 3.7851\n",
            "Epoch 149/200\n",
            "\u001b[1m26/26\u001b[0m \u001b[32m━━━━━━━━━━━━━━━━━━━━\u001b[0m\u001b[37m\u001b[0m \u001b[1m0s\u001b[0m 6ms/step - loss: 13.7589 - mae: 2.8118 - val_loss: 30.4017 - val_mae: 3.7722\n",
            "Epoch 150/200\n",
            "\u001b[1m26/26\u001b[0m \u001b[32m━━━━━━━━━━━━━━━━━━━━\u001b[0m\u001b[37m\u001b[0m \u001b[1m0s\u001b[0m 5ms/step - loss: 12.4384 - mae: 2.5992 - val_loss: 27.9323 - val_mae: 3.6630\n",
            "Epoch 151/200\n",
            "\u001b[1m26/26\u001b[0m \u001b[32m━━━━━━━━━━━━━━━━━━━━\u001b[0m\u001b[37m\u001b[0m \u001b[1m0s\u001b[0m 7ms/step - loss: 11.6022 - mae: 2.4473 - val_loss: 31.5551 - val_mae: 3.9238\n",
            "Epoch 152/200\n",
            "\u001b[1m26/26\u001b[0m \u001b[32m━━━━━━━━━━━━━━━━━━━━\u001b[0m\u001b[37m\u001b[0m \u001b[1m0s\u001b[0m 6ms/step - loss: 12.2243 - mae: 2.5524 - val_loss: 30.4266 - val_mae: 3.7575\n",
            "Epoch 153/200\n",
            "\u001b[1m26/26\u001b[0m \u001b[32m━━━━━━━━━━━━━━━━━━━━\u001b[0m\u001b[37m\u001b[0m \u001b[1m0s\u001b[0m 6ms/step - loss: 11.1396 - mae: 2.4439 - val_loss: 33.0811 - val_mae: 4.0923\n",
            "Epoch 154/200\n",
            "\u001b[1m26/26\u001b[0m \u001b[32m━━━━━━━━━━━━━━━━━━━━\u001b[0m\u001b[37m\u001b[0m \u001b[1m0s\u001b[0m 6ms/step - loss: 12.7066 - mae: 2.6299 - val_loss: 29.8249 - val_mae: 3.7036\n",
            "Epoch 155/200\n",
            "\u001b[1m26/26\u001b[0m \u001b[32m━━━━━━━━━━━━━━━━━━━━\u001b[0m\u001b[37m\u001b[0m \u001b[1m0s\u001b[0m 6ms/step - loss: 10.4659 - mae: 2.3895 - val_loss: 31.2301 - val_mae: 3.8567\n",
            "Epoch 156/200\n",
            "\u001b[1m26/26\u001b[0m \u001b[32m━━━━━━━━━━━━━━━━━━━━\u001b[0m\u001b[37m\u001b[0m \u001b[1m0s\u001b[0m 6ms/step - loss: 12.1960 - mae: 2.5298 - val_loss: 29.7707 - val_mae: 3.7985\n",
            "Epoch 157/200\n",
            "\u001b[1m26/26\u001b[0m \u001b[32m━━━━━━━━━━━━━━━━━━━━\u001b[0m\u001b[37m\u001b[0m \u001b[1m0s\u001b[0m 6ms/step - loss: 9.8893 - mae: 2.2401 - val_loss: 28.2796 - val_mae: 3.5223\n",
            "Epoch 158/200\n",
            "\u001b[1m26/26\u001b[0m \u001b[32m━━━━━━━━━━━━━━━━━━━━\u001b[0m\u001b[37m\u001b[0m \u001b[1m0s\u001b[0m 6ms/step - loss: 10.6713 - mae: 2.3677 - val_loss: 29.6810 - val_mae: 3.6634\n",
            "Epoch 159/200\n",
            "\u001b[1m26/26\u001b[0m \u001b[32m━━━━━━━━━━━━━━━━━━━━\u001b[0m\u001b[37m\u001b[0m \u001b[1m0s\u001b[0m 6ms/step - loss: 10.0552 - mae: 2.2675 - val_loss: 29.2037 - val_mae: 3.7043\n",
            "Epoch 160/200\n",
            "\u001b[1m26/26\u001b[0m \u001b[32m━━━━━━━━━━━━━━━━━━━━\u001b[0m\u001b[37m\u001b[0m \u001b[1m0s\u001b[0m 6ms/step - loss: 10.5201 - mae: 2.3671 - val_loss: 29.5299 - val_mae: 3.8076\n",
            "Epoch 161/200\n",
            "\u001b[1m26/26\u001b[0m \u001b[32m━━━━━━━━━━━━━━━━━━━━\u001b[0m\u001b[37m\u001b[0m \u001b[1m0s\u001b[0m 6ms/step - loss: 9.9373 - mae: 2.3042 - val_loss: 29.9458 - val_mae: 3.7957\n",
            "Epoch 162/200\n",
            "\u001b[1m26/26\u001b[0m \u001b[32m━━━━━━━━━━━━━━━━━━━━\u001b[0m\u001b[37m\u001b[0m \u001b[1m0s\u001b[0m 7ms/step - loss: 8.7035 - mae: 2.2026 - val_loss: 31.5500 - val_mae: 3.9138\n",
            "Epoch 163/200\n",
            "\u001b[1m26/26\u001b[0m \u001b[32m━━━━━━━━━━━━━━━━━━━━\u001b[0m\u001b[37m\u001b[0m \u001b[1m0s\u001b[0m 6ms/step - loss: 10.3390 - mae: 2.3432 - val_loss: 30.6582 - val_mae: 3.8355\n",
            "Epoch 164/200\n",
            "\u001b[1m26/26\u001b[0m \u001b[32m━━━━━━━━━━━━━━━━━━━━\u001b[0m\u001b[37m\u001b[0m \u001b[1m0s\u001b[0m 6ms/step - loss: 10.4221 - mae: 2.4638 - val_loss: 33.1106 - val_mae: 4.0905\n",
            "Epoch 165/200\n",
            "\u001b[1m26/26\u001b[0m \u001b[32m━━━━━━━━━━━━━━━━━━━━\u001b[0m\u001b[37m\u001b[0m \u001b[1m0s\u001b[0m 6ms/step - loss: 12.3076 - mae: 2.6003 - val_loss: 28.6476 - val_mae: 3.5300\n",
            "Epoch 166/200\n",
            "\u001b[1m26/26\u001b[0m \u001b[32m━━━━━━━━━━━━━━━━━━━━\u001b[0m\u001b[37m\u001b[0m \u001b[1m0s\u001b[0m 6ms/step - loss: 10.6575 - mae: 2.4386 - val_loss: 30.4363 - val_mae: 3.8722\n",
            "Epoch 167/200\n",
            "\u001b[1m26/26\u001b[0m \u001b[32m━━━━━━━━━━━━━━━━━━━━\u001b[0m\u001b[37m\u001b[0m \u001b[1m0s\u001b[0m 7ms/step - loss: 11.9880 - mae: 2.4880 - val_loss: 31.5948 - val_mae: 3.8852\n",
            "Epoch 168/200\n",
            "\u001b[1m26/26\u001b[0m \u001b[32m━━━━━━━━━━━━━━━━━━━━\u001b[0m\u001b[37m\u001b[0m \u001b[1m0s\u001b[0m 8ms/step - loss: 11.2446 - mae: 2.3722 - val_loss: 28.9048 - val_mae: 3.6635\n",
            "Epoch 169/200\n",
            "\u001b[1m26/26\u001b[0m \u001b[32m━━━━━━━━━━━━━━━━━━━━\u001b[0m\u001b[37m\u001b[0m \u001b[1m0s\u001b[0m 10ms/step - loss: 8.5897 - mae: 2.1638 - val_loss: 31.7719 - val_mae: 4.0170\n",
            "Epoch 170/200\n",
            "\u001b[1m26/26\u001b[0m \u001b[32m━━━━━━━━━━━━━━━━━━━━\u001b[0m\u001b[37m\u001b[0m \u001b[1m0s\u001b[0m 13ms/step - loss: 11.3452 - mae: 2.4395 - val_loss: 29.1650 - val_mae: 3.7057\n",
            "Epoch 171/200\n",
            "\u001b[1m26/26\u001b[0m \u001b[32m━━━━━━━━━━━━━━━━━━━━\u001b[0m\u001b[37m\u001b[0m \u001b[1m1s\u001b[0m 10ms/step - loss: 9.1414 - mae: 2.1797 - val_loss: 28.9350 - val_mae: 3.5229\n",
            "Epoch 172/200\n",
            "\u001b[1m26/26\u001b[0m \u001b[32m━━━━━━━━━━━━━━━━━━━━\u001b[0m\u001b[37m\u001b[0m \u001b[1m0s\u001b[0m 10ms/step - loss: 9.6169 - mae: 2.2622 - val_loss: 30.1591 - val_mae: 3.7162\n",
            "Epoch 173/200\n",
            "\u001b[1m26/26\u001b[0m \u001b[32m━━━━━━━━━━━━━━━━━━━━\u001b[0m\u001b[37m\u001b[0m \u001b[1m0s\u001b[0m 11ms/step - loss: 8.7502 - mae: 2.2270 - val_loss: 30.5888 - val_mae: 3.8982\n",
            "Epoch 174/200\n",
            "\u001b[1m26/26\u001b[0m \u001b[32m━━━━━━━━━━━━━━━━━━━━\u001b[0m\u001b[37m\u001b[0m \u001b[1m0s\u001b[0m 12ms/step - loss: 10.2990 - mae: 2.4047 - val_loss: 31.6428 - val_mae: 3.8177\n",
            "Epoch 175/200\n",
            "\u001b[1m26/26\u001b[0m \u001b[32m━━━━━━━━━━━━━━━━━━━━\u001b[0m\u001b[37m\u001b[0m \u001b[1m0s\u001b[0m 6ms/step - loss: 12.7037 - mae: 2.5794 - val_loss: 29.0466 - val_mae: 3.7085\n",
            "Epoch 176/200\n",
            "\u001b[1m26/26\u001b[0m \u001b[32m━━━━━━━━━━━━━━━━━━━━\u001b[0m\u001b[37m\u001b[0m \u001b[1m0s\u001b[0m 6ms/step - loss: 10.4612 - mae: 2.3981 - val_loss: 30.6346 - val_mae: 3.7944\n",
            "Epoch 177/200\n",
            "\u001b[1m26/26\u001b[0m \u001b[32m━━━━━━━━━━━━━━━━━━━━\u001b[0m\u001b[37m\u001b[0m \u001b[1m0s\u001b[0m 7ms/step - loss: 9.9172 - mae: 2.2495 - val_loss: 28.5129 - val_mae: 3.5776\n",
            "Epoch 178/200\n",
            "\u001b[1m26/26\u001b[0m \u001b[32m━━━━━━━━━━━━━━━━━━━━\u001b[0m\u001b[37m\u001b[0m \u001b[1m0s\u001b[0m 6ms/step - loss: 9.4372 - mae: 2.2763 - val_loss: 28.8636 - val_mae: 3.7236\n",
            "Epoch 179/200\n",
            "\u001b[1m26/26\u001b[0m \u001b[32m━━━━━━━━━━━━━━━━━━━━\u001b[0m\u001b[37m\u001b[0m \u001b[1m0s\u001b[0m 6ms/step - loss: 9.7217 - mae: 2.3127 - val_loss: 29.2583 - val_mae: 3.6320\n",
            "Epoch 180/200\n",
            "\u001b[1m26/26\u001b[0m \u001b[32m━━━━━━━━━━━━━━━━━━━━\u001b[0m\u001b[37m\u001b[0m \u001b[1m0s\u001b[0m 6ms/step - loss: 10.5368 - mae: 2.3222 - val_loss: 28.0308 - val_mae: 3.5055\n",
            "Epoch 181/200\n",
            "\u001b[1m26/26\u001b[0m \u001b[32m━━━━━━━━━━━━━━━━━━━━\u001b[0m\u001b[37m\u001b[0m \u001b[1m0s\u001b[0m 7ms/step - loss: 8.3565 - mae: 2.1214 - val_loss: 29.9582 - val_mae: 3.7094\n",
            "Epoch 182/200\n",
            "\u001b[1m26/26\u001b[0m \u001b[32m━━━━━━━━━━━━━━━━━━━━\u001b[0m\u001b[37m\u001b[0m \u001b[1m0s\u001b[0m 6ms/step - loss: 10.3188 - mae: 2.2791 - val_loss: 30.8901 - val_mae: 3.6087\n",
            "Epoch 183/200\n",
            "\u001b[1m26/26\u001b[0m \u001b[32m━━━━━━━━━━━━━━━━━━━━\u001b[0m\u001b[37m\u001b[0m \u001b[1m0s\u001b[0m 6ms/step - loss: 8.8077 - mae: 2.1673 - val_loss: 31.7579 - val_mae: 3.8787\n",
            "Epoch 184/200\n",
            "\u001b[1m26/26\u001b[0m \u001b[32m━━━━━━━━━━━━━━━━━━━━\u001b[0m\u001b[37m\u001b[0m \u001b[1m0s\u001b[0m 6ms/step - loss: 10.9530 - mae: 2.4074 - val_loss: 29.6591 - val_mae: 3.6398\n",
            "Epoch 185/200\n",
            "\u001b[1m26/26\u001b[0m \u001b[32m━━━━━━━━━━━━━━━━━━━━\u001b[0m\u001b[37m\u001b[0m \u001b[1m0s\u001b[0m 8ms/step - loss: 11.0037 - mae: 2.3525 - val_loss: 28.7934 - val_mae: 3.5428\n",
            "Epoch 186/200\n",
            "\u001b[1m26/26\u001b[0m \u001b[32m━━━━━━━━━━━━━━━━━━━━\u001b[0m\u001b[37m\u001b[0m \u001b[1m0s\u001b[0m 6ms/step - loss: 8.4436 - mae: 2.1350 - val_loss: 28.5308 - val_mae: 3.5537\n",
            "Epoch 187/200\n",
            "\u001b[1m26/26\u001b[0m \u001b[32m━━━━━━━━━━━━━━━━━━━━\u001b[0m\u001b[37m\u001b[0m \u001b[1m0s\u001b[0m 8ms/step - loss: 10.5474 - mae: 2.3689 - val_loss: 29.8218 - val_mae: 3.7306\n",
            "Epoch 188/200\n",
            "\u001b[1m26/26\u001b[0m \u001b[32m━━━━━━━━━━━━━━━━━━━━\u001b[0m\u001b[37m\u001b[0m \u001b[1m0s\u001b[0m 6ms/step - loss: 8.0386 - mae: 2.0989 - val_loss: 30.6350 - val_mae: 3.7708\n",
            "Epoch 189/200\n",
            "\u001b[1m26/26\u001b[0m \u001b[32m━━━━━━━━━━━━━━━━━━━━\u001b[0m\u001b[37m\u001b[0m \u001b[1m0s\u001b[0m 6ms/step - loss: 8.5998 - mae: 2.1303 - val_loss: 28.3041 - val_mae: 3.5645\n",
            "Epoch 190/200\n",
            "\u001b[1m26/26\u001b[0m \u001b[32m━━━━━━━━━━━━━━━━━━━━\u001b[0m\u001b[37m\u001b[0m \u001b[1m0s\u001b[0m 6ms/step - loss: 8.5005 - mae: 2.1455 - val_loss: 28.3463 - val_mae: 3.6097\n",
            "Epoch 191/200\n",
            "\u001b[1m26/26\u001b[0m \u001b[32m━━━━━━━━━━━━━━━━━━━━\u001b[0m\u001b[37m\u001b[0m \u001b[1m0s\u001b[0m 8ms/step - loss: 10.3188 - mae: 2.2619 - val_loss: 28.8491 - val_mae: 3.5882\n",
            "Epoch 192/200\n",
            "\u001b[1m26/26\u001b[0m \u001b[32m━━━━━━━━━━━━━━━━━━━━\u001b[0m\u001b[37m\u001b[0m \u001b[1m0s\u001b[0m 7ms/step - loss: 8.7224 - mae: 2.1046 - val_loss: 30.2987 - val_mae: 3.7447\n",
            "Epoch 193/200\n",
            "\u001b[1m26/26\u001b[0m \u001b[32m━━━━━━━━━━━━━━━━━━━━\u001b[0m\u001b[37m\u001b[0m \u001b[1m0s\u001b[0m 5ms/step - loss: 10.0008 - mae: 2.2957 - val_loss: 28.5187 - val_mae: 3.5592\n",
            "Epoch 194/200\n",
            "\u001b[1m26/26\u001b[0m \u001b[32m━━━━━━━━━━━━━━━━━━━━\u001b[0m\u001b[37m\u001b[0m \u001b[1m0s\u001b[0m 6ms/step - loss: 8.8387 - mae: 2.2066 - val_loss: 30.0428 - val_mae: 3.7765\n",
            "Epoch 195/200\n",
            "\u001b[1m26/26\u001b[0m \u001b[32m━━━━━━━━━━━━━━━━━━━━\u001b[0m\u001b[37m\u001b[0m \u001b[1m0s\u001b[0m 7ms/step - loss: 8.4537 - mae: 2.1371 - val_loss: 27.8064 - val_mae: 3.4827\n",
            "Epoch 196/200\n",
            "\u001b[1m26/26\u001b[0m \u001b[32m━━━━━━━━━━━━━━━━━━━━\u001b[0m\u001b[37m\u001b[0m \u001b[1m0s\u001b[0m 8ms/step - loss: 8.0359 - mae: 2.1204 - val_loss: 28.6351 - val_mae: 3.6434\n",
            "Epoch 197/200\n",
            "\u001b[1m26/26\u001b[0m \u001b[32m━━━━━━━━━━━━━━━━━━━━\u001b[0m\u001b[37m\u001b[0m \u001b[1m0s\u001b[0m 6ms/step - loss: 8.9947 - mae: 2.1782 - val_loss: 28.5043 - val_mae: 3.5385\n",
            "Epoch 198/200\n",
            "\u001b[1m26/26\u001b[0m \u001b[32m━━━━━━━━━━━━━━━━━━━━\u001b[0m\u001b[37m\u001b[0m \u001b[1m0s\u001b[0m 7ms/step - loss: 9.1371 - mae: 2.1838 - val_loss: 28.6220 - val_mae: 3.5729\n",
            "Epoch 199/200\n",
            "\u001b[1m26/26\u001b[0m \u001b[32m━━━━━━━━━━━━━━━━━━━━\u001b[0m\u001b[37m\u001b[0m \u001b[1m0s\u001b[0m 6ms/step - loss: 8.5168 - mae: 2.0579 - val_loss: 30.6170 - val_mae: 3.7594\n",
            "Epoch 200/200\n",
            "\u001b[1m26/26\u001b[0m \u001b[32m━━━━━━━━━━━━━━━━━━━━\u001b[0m\u001b[37m\u001b[0m \u001b[1m0s\u001b[0m 6ms/step - loss: 7.9709 - mae: 2.0872 - val_loss: 31.3585 - val_mae: 3.8341\n"
          ]
        }
      ],
      "source": [
        "# Train the model\n",
        "history = model.fit(X_train, y_train, epochs=200, batch_size=32, validation_data=(X_test, y_test), verbose=1)\n"
      ]
    },
    {
      "cell_type": "code",
      "execution_count": 14,
      "metadata": {
        "id": "Tp0vf8qa63xc",
        "colab": {
          "base_uri": "https://localhost:8080/"
        },
        "outputId": "132659c4-a5a3-46cb-8838-d3a982508e04"
      },
      "outputs": [
        {
          "output_type": "stream",
          "name": "stdout",
          "text": [
            " Mean Absolute Error (MAE): 3.83\n"
          ]
        }
      ],
      "source": [
        "test_loss, test_mae = model.evaluate(X_test, y_test, verbose=0)\n",
        "\n",
        "print(f\" Mean Absolute Error (MAE): {test_mae:.2f}\")\n"
      ]
    },
    {
      "cell_type": "code",
      "source": [
        "from sklearn.metrics import r2_score\n",
        "y_pred = model.predict(X_test)\n",
        "r2 = r2_score(y_test, y_pred) *100\n",
        "print(f\" R-squared (R²): {r2:.2f}\")"
      ],
      "metadata": {
        "colab": {
          "base_uri": "https://localhost:8080/"
        },
        "id": "SQCDNCIEgg9E",
        "outputId": "5b670ca2-81e1-44fd-fcbd-a80076ba25e3"
      },
      "execution_count": 15,
      "outputs": [
        {
          "output_type": "stream",
          "name": "stdout",
          "text": [
            "\u001b[1m7/7\u001b[0m \u001b[32m━━━━━━━━━━━━━━━━━━━━\u001b[0m\u001b[37m\u001b[0m \u001b[1m0s\u001b[0m 5ms/step \n",
            " R-squared (R²): 87.83\n"
          ]
        }
      ]
    },
    {
      "cell_type": "code",
      "execution_count": 9,
      "metadata": {
        "id": "nqxr7SpX68qN",
        "colab": {
          "base_uri": "https://localhost:8080/",
          "height": 472
        },
        "outputId": "b176e369-2a4c-43be-c9c6-7f2e8add5b0b"
      },
      "outputs": [
        {
          "output_type": "display_data",
          "data": {
            "text/plain": [
              "<Figure size 640x480 with 1 Axes>"
            ],
            "image/png": "[encoded data removed]"
          },
          "metadata": {}
        }
      ],
      "source": [
        "plt.plot(history.history['loss'], label='Train Loss')\n",
        "plt.plot(history.history['val_loss'], label='Validation Loss')\n",
        "plt.xlabel('Epochs')\n",
        "plt.ylabel('Loss (MSE)')\n",
        "plt.legend()\n",
        "plt.title('Loss Curve')\n",
        "plt.show()\n"
      ]
    },
    {
      "cell_type": "code",
      "source": [
        "model.save(\"concrete_strength.h5\")"
      ],
      "metadata": {
        "colab": {
          "base_uri": "https://localhost:8080/"
        },
        "id": "KTKbeHl3RYPP",
        "outputId": "0335e131-97ec-4201-b498-0d9335813145"
      },
      "execution_count": 10,
      "outputs": [
        {
          "output_type": "stream",
          "name": "stderr",
          "text": [
            "WARNING:absl:You are saving your model as an HDF5 file via `model.save()` or `keras.saving.save_model(model)`. This file format is considered legacy. We recommend using instead the native Keras format, e.g. `model.save('my_model.keras')` or `keras.saving.save_model(model, 'my_model.keras')`. \n"
          ]
        }
      ]
    },
    {
      "cell_type": "code",
      "execution_count": 11,
      "metadata": {
        "id": "LPbgyYcg7Jjk",
        "colab": {
          "base_uri": "https://localhost:8080/"
        },
        "outputId": "c1f265a6-e191-4b91-b2be-4a9749ac44ad"
      },
      "outputs": [
        {
          "output_type": "stream",
          "name": "stdout",
          "text": [
            "\n",
            "Enter the concrete mix proportions:\n",
            "Cement (kg/m³): 200\n",
            "Blast Furnace Slag (kg/m³): 0\n",
            "Fly Ash (kg/m³): 0\n",
            "Water (kg/m³): 120\n",
            "Superplasticizer (kg/m³): 5\n",
            "Coarse Aggregate (kg/m³): 120\n",
            "Fine Aggregate (kg/m³): 120\n",
            "Age (days): 29\n",
            "\u001b[1m1/1\u001b[0m \u001b[32m━━━━━━━━━━━━━━━━━━━━\u001b[0m\u001b[37m\u001b[0m \u001b[1m0s\u001b[0m 82ms/step\n",
            "\n",
            "🔹 Predicted Concrete Strength: 26.69 MPa\n"
          ]
        }
      ],
      "source": [
        "def predict_concrete_strength(model, scaler):\n",
        "    print(\"\\nEnter the concrete mix proportions:\")\n",
        "    cement = float(input(\"Cement (kg/m³): \"))\n",
        "    blast_furnace_slag = float(input(\"Blast Furnace Slag (kg/m³): \"))\n",
        "    fly_ash = float(input(\"Fly Ash (kg/m³): \"))\n",
        "    water = float(input(\"Water (kg/m³): \"))\n",
        "    superplasticizer = float(input(\"Superplasticizer (kg/m³): \"))\n",
        "    coarse_aggregate = float(input(\"Coarse Aggregate (kg/m³): \"))\n",
        "    fine_aggregate = float(input(\"Fine Aggregate (kg/m³): \"))\n",
        "    age = int(input(\"Age (days): \"))\n",
        "\n",
        "\n",
        "    user_data = np.array([[cement, blast_furnace_slag, fly_ash, water,\n",
        "                           superplasticizer, coarse_aggregate, fine_aggregate, age]])\n",
        "\n",
        "    user_data_df = pd.DataFrame(user_data, columns=[\"Cement\", \"BlastFurnaceSlag\", \"FlyAsh\", \"Water\",\n",
        "                                                \"Superplasticizer\", \"CoarseAggregate\", \"FineAggregate\", \"Age\"])\n",
        "    user_data_scaled = scaler.transform(user_data_df)\n",
        "\n",
        "\n",
        "    prediction = model.predict(user_data_scaled)\n",
        "\n",
        "    print(f\"\\n🔹 Predicted Concrete Strength: {prediction[0][0]:.2f} MPa\")\n",
        "\n",
        "\n",
        "predict_concrete_strength(model, scaler)\n"
      ]
    }
  ],
  "metadata": {
    "colab": {
      "provenance": []
    },
    "kernelspec": {
      "display_name": "Python 3",
      "name": "python3"
    },
    "language_info": {
      "name": "python"
    }
  },
  "nbformat": 4,
  "nbformat_minor": 0
}